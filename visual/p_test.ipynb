{
 "cells": [
  {
   "cell_type": "code",
   "execution_count": 1,
   "id": "17e8f11d-7b39-43be-a9c3-ac45f3778d52",
   "metadata": {},
   "outputs": [
    {
     "name": "stdout",
     "output_type": "stream",
     "text": [
      "Accuracy Mean: 0.936\n",
      "Accuracy Std: 0.046\n",
      "95% Confidence Interval: (0.8785068002749071, 0.9934931997250928)\n",
      "p-value: 0.581\n"
     ]
    }
   ],
   "source": [
    "# examle coding\n",
    "import numpy as np\n",
    "from sklearn.model_selection import cross_val_score\n",
    "from scipy import stats\n",
    "scores = np.array([0.97,0.95,0.86,0.99,0.91])\n",
    "# Calculate the mean and standard deviation\n",
    "mean_score = np.mean(scores)\n",
    "std_score = np.std(scores)\n",
    "# Calculate the 95% confidence interval\n",
    "n = len(scores)\n",
    "confidence_level = 0.95\n",
    "degrees_freedom = n - 1\n",
    "t_critical = stats.t.ppf((1 + confidence_level) / 2, degrees_freedom)\n",
    "margin_of_error = t_critical * (std_score / np.sqrt(n))\n",
    "confidence_interval = (mean_score - margin_of_error, mean_score + margin_of_error)\n",
    "# Output result\n",
    "print(f'Accuracy Mean: {mean_score:.3f}')\n",
    "print(f'Accuracy Std: {std_score:.3f}')\n",
    "print(f'95% Confidence Interval: {confidence_interval}')\n",
    "# If you need to compare models, you can use the t-test.\n",
    "scores_model1 = np.array([0.97,0.95,0.86,0.99,0.91])\n",
    "scores_model2 = np.array([0.95,0.94,0.93,0.95,0.98])\n",
    "t_statistic, p_value = stats.ttest_rel(scores_model1, scores_model2)\n",
    "# p > 0.05, there is a significant difference between the two models, and the model with the larger mean performs better. Output the p-value.\n",
    "print(f'p-value: {p_value:.3f}')"
   ]
  },
  {
   "cell_type": "markdown",
   "id": "01f74ad8-59a6-4c18-8889-ce52225240fc",
   "metadata": {},
   "source": [
    "# The two-sample T-test for alpha and beta shows no significant difference from the true value."
   ]
  },
  {
   "cell_type": "code",
   "execution_count": 2,
   "id": "65855ebe-ca0c-4f8a-b263-75b85febb887",
   "metadata": {},
   "outputs": [
    {
     "name": "stdout",
     "output_type": "stream",
     "text": [
      "a1 vs a2: t statistic=-0.4464205793455633, p value=0.6553362777265007\n",
      "b1 vs b2: t statistic=-0.7888869216221415, p value=0.4302609199298959\n"
     ]
    }
   ],
   "source": [
    "import pandas as pd\n",
    "from scipy import stats\n",
    "file_path = 'angle_plus_sum.xlsx'  \n",
    "df = pd.read_excel(file_path)\n",
    "a1 = df['a1'].values\n",
    "a2 = df['a2'].values\n",
    "b1 = df['b1'].values\n",
    "b2 = df['b2'].values\n",
    "# Conduct a two-sample t-test (a1 vs a2 and b1 vs b2)\n",
    "_, p_levene = stats.levene(a1, a2)\t\n",
    "if p_levene > 0.05:\n",
    "    t_stat_a, p_value_a = stats.ttest_ind(a1, a2, equal_var=True)\n",
    "else:\n",
    "    t_stat_a, p_value_a = stats.ttest_ind(a1, a2, equal_var=False)\n",
    "_, p_levene = stats.levene(b1, b2)\t\n",
    "if p_levene > 0.05:\n",
    "    t_stat_b, p_value_b = stats.ttest_ind(b1, b2, equal_var=True)\n",
    "else:\n",
    "    t_stat_b, p_value_b = stats.ttest_ind(b1, b2, equal_var=False)\n",
    "# Output inspection results\n",
    "print(f'a1 vs a2: t statistic={t_stat_a}, p value={p_value_a}')\n",
    "print(f'b1 vs b2: t statistic={t_stat_b}, p value={p_value_b}')"
   ]
  },
  {
   "cell_type": "markdown",
   "id": "1dc70b5f-39e4-4f11-bbd7-fdaa16f7cac9",
   "metadata": {},
   "source": [
    "# Double sample T-test for type I and II DSC and HD"
   ]
  },
  {
   "cell_type": "code",
   "execution_count": 3,
   "id": "b6840f6d-ac78-44fc-991d-4e49316544bc",
   "metadata": {},
   "outputs": [
    {
     "name": "stdout",
     "output_type": "stream",
     "text": [
      "a1 vs a2: t统计量=0.10783277320342644, p值=0.916783735546377\n",
      "b1 vs b2: t统计量=0.38544795918453817, p值=0.7099522317357996\n"
     ]
    }
   ],
   "source": [
    "import pandas as pd\n",
    "from scipy import stats\n",
    "file_path = 'angle_plus_sum.xlsx'  \n",
    "df = pd.read_excel(file_path)\n",
    "a1 = np.array([0.857,0.862,0.862,0.863,0.862])\n",
    "a2 = np.array([0.856,0.860,0.861,0.865,0.863])\n",
    "b1 = np.array([8.355,8.288,8.177,8.003,8.117])\n",
    "b2 = np.array([8.228,8.901,7.888,7.822,7.659])\n",
    "# Conduct a two-sample t-test (a1 vs a2 and b1 vs b2)\n",
    "_, p_levene = stats.levene(a1, a2)\t\n",
    "if p_levene > 0.05:\n",
    "    t_stat_a, p_value_a = stats.ttest_ind(a1, a2, equal_var=True)\n",
    "else:\n",
    "    t_stat_a, p_value_a = stats.ttest_ind(a1, a2, equal_var=False)\n",
    "_, p_levene = stats.levene(b1, b2)\t\n",
    "if p_levene > 0.05:\n",
    "    t_stat_b, p_value_b = stats.ttest_ind(b1, b2, equal_var=True)\n",
    "else:\n",
    "    t_stat_b, p_value_b = stats.ttest_ind(b1, b2, equal_var=False)\n",
    "# Output inspection results\n",
    "print(f'a1 vs a2: t统计量={t_stat_a}, p值={p_value_a}')\n",
    "print(f'b1 vs b2: t统计量={t_stat_b}, p值={p_value_b}')"
   ]
  },
  {
   "cell_type": "markdown",
   "id": "c5fcbdf1-aaf1-4d2a-a3ca-30a98cfe2b37",
   "metadata": {},
   "source": [
    "# Two-sample t-test, testing the significance of the model"
   ]
  },
  {
   "cell_type": "code",
   "execution_count": 4,
   "id": "118eafb9-25c2-4a93-a9a3-0d84ca5f449a",
   "metadata": {},
   "outputs": [
    {
     "name": "stdout",
     "output_type": "stream",
     "text": [
      "Femoral Head:\n",
      "Model1 - mean: 0.9354, std: 0.0029, 95% confidence interval: (0.9328920732405349, 0.9379078393725654)\n",
      "Model2 - mean: 0.9468, std: 0.0016, 95% confidence interval: (0.9453788044642225, 0.9481588489455656)\n",
      "t-test p-value: 0.0001\n",
      "\n",
      "Large Rotor:\n",
      "Model1 - mean: 0.8656, std: 0.0035, 95% confidence interval: (0.8625108686831723, 0.8686299660229552)\n",
      "Model2 - mean: 0.8891, std: 0.0014, 95% confidence interval: (0.8878380651764796, 0.8903384411018157)\n",
      "t-test p-value: 0.0000\n",
      "\n",
      "Glenoid Labrum:\n",
      "Model1 - mean: 0.7534, std: 0.0053, 95% confidence interval: (0.7487324212982513, 0.7580068740432442)\n",
      "Model2 - mean: 0.8420, std: 0.0046, 95% confidence interval: (0.8379413421779809, 0.8460867655527227)\n",
      "t-test p-value: 0.0000\n",
      "\n",
      "Cartilage Acetabular Roof:\n",
      "Model1 - mean: 0.8042, std: 0.0015, 95% confidence interval: (0.8028409338263133, 0.8054962457740827)\n",
      "Model2 - mean: 0.8587, std: 0.0057, 95% confidence interval: (0.8537058767298552, 0.8636343829281933)\n",
      "t-test p-value: 0.0000\n",
      "\n",
      "Synovial Fold:\n",
      "Model1 - mean: 0.7738, std: 0.0042, 95% confidence interval: (0.7701852942632949, 0.7774960500598905)\n",
      "Model2 - mean: 0.8272, std: 0.0072, 95% confidence interval: (0.820885648638116, 0.8334575122973436)\n",
      "t-test p-value: 0.0000\n",
      "\n",
      "Perichondrium:\n",
      "Model1 - mean: 0.6866, std: 0.0024, 95% confidence interval: (0.6845363585642921, 0.6887514351416824)\n",
      "Model2 - mean: 0.8461, std: 0.0020, 95% confidence interval: (0.8444032031854874, 0.8478585581167234)\n",
      "t-test p-value: 0.0000\n",
      "\n",
      "Y Type Cartilage:\n",
      "Model1 - mean: 0.8049, std: 0.0122, 95% confidence interval: (0.7942014585788281, 0.8156413757996664)\n",
      "Model2 - mean: 0.8194, std: 0.0037, 95% confidence interval: (0.8161482205820002, 0.8227090111118821)\n",
      "t-test p-value: 0.0349\n",
      "\n"
     ]
    }
   ],
   "source": [
    "import pandas as pd\n",
    "import numpy as np\n",
    "from scipy import stats\n",
    "df_model1 = pd.read_excel('dsc/psnet.xlsx')\n",
    "df_model2 = pd.read_excel('dsc/plus.xlsx')\n",
    "structures = ['Femoral Head','Large Rotor','Glenoid Labrum','Cartilage Acetabular Roof','Synovial Fold','Perichondrium','Y Type Cartilage']\n",
    "# 计Calculate the mean, standard deviation, confidence interval, and t-test p-value for each structure\n",
    "for structure in structures:\n",
    "    mean_model1 = df_model1[structure].mean()\n",
    "    std_model1 = df_model1[structure].std()\n",
    "    mean_model2 = df_model2[structure].mean()\n",
    "    std_model2 = df_model2[structure].std()\n",
    "    # Calculate the 95% confidence interval\n",
    "    ci_model1 = stats.norm.interval(0.95, loc=mean_model1, scale=std_model1/np.sqrt(len(df_model1)))\n",
    "    ci_model2 = stats.norm.interval(0.95, loc=mean_model2, scale=std_model2/np.sqrt(len(df_model2)))\n",
    "    # Conduct a two-sample t-test\n",
    "    # t_stat, p_value = stats.ttest_rel(df_model1[structure], df_model2[structure])\n",
    "    _, p_levene = stats.levene(df_model1[structure], df_model2[structure])\t\n",
    "    if p_levene > 0.05:\n",
    "        t_stat, p_value = stats.ttest_ind(df_model1[structure], df_model2[structure], equal_var=True)\n",
    "    else:\n",
    "        t_stat, p_value = stats.ttest_ind(df_model1[structure], df_model2[structure], equal_var=False)\n",
    "    print(f\"{structure}:\")\n",
    "    print(f\"Model1 - mean: {mean_model1:.4f}, std: {std_model1:.4f}, 95% confidence interval: {ci_model1}\")\n",
    "    print(f\"Model2 - mean: {mean_model2:.4f}, std: {std_model2:.4f}, 95% confidence interval: {ci_model2}\")\n",
    "    print(f\"t-test p-value: {p_value:.4f}\\n\")"
   ]
  },
  {
   "cell_type": "code",
   "execution_count": null,
   "id": "4064bfca-f705-4f4c-ac53-fc97d98525c2",
   "metadata": {},
   "outputs": [],
   "source": []
  },
  {
   "cell_type": "code",
   "execution_count": null,
   "id": "ffac1b02",
   "metadata": {},
   "outputs": [],
   "source": []
  }
 ],
 "metadata": {
  "kernelspec": {
   "display_name": "Python 3 (ipykernel)",
   "language": "python",
   "name": "python3"
  },
  "language_info": {
   "codemirror_mode": {
    "name": "ipython",
    "version": 3
   },
   "file_extension": ".py",
   "mimetype": "text/x-python",
   "name": "python",
   "nbconvert_exporter": "python",
   "pygments_lexer": "ipython3",
   "version": "3.8.19"
  }
 },
 "nbformat": 4,
 "nbformat_minor": 5
}
